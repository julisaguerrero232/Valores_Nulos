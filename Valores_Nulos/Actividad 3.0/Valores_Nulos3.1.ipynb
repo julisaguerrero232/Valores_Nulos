{
 "cells": [
  {
   "cell_type": "code",
   "execution_count": 2,
   "metadata": {},
   "outputs": [],
   "source": [
    "import pandas as pd\n",
    "import numpy as np\n",
    "import matplotlib.pyplot as plt"
   ]
  },
  {
   "cell_type": "code",
   "execution_count": 3,
   "metadata": {},
   "outputs": [
    {
     "data": {
      "text/html": [
       "<div>\n",
       "<style scoped>\n",
       "    .dataframe tbody tr th:only-of-type {\n",
       "        vertical-align: middle;\n",
       "    }\n",
       "\n",
       "    .dataframe tbody tr th {\n",
       "        vertical-align: top;\n",
       "    }\n",
       "\n",
       "    .dataframe thead th {\n",
       "        text-align: right;\n",
       "    }\n",
       "</style>\n",
       "<table border=\"1\" class=\"dataframe\">\n",
       "  <thead>\n",
       "    <tr style=\"text-align: right;\">\n",
       "      <th></th>\n",
       "      <th>0</th>\n",
       "      <th>Referencia</th>\n",
       "      <th>Fecha Alta</th>\n",
       "      <th>Tipo</th>\n",
       "      <th>Operación</th>\n",
       "      <th>Provincia</th>\n",
       "      <th>Superficie</th>\n",
       "      <th>Precio Venta</th>\n",
       "      <th>Fecha Venta</th>\n",
       "      <th>Vendedor</th>\n",
       "    </tr>\n",
       "  </thead>\n",
       "  <tbody>\n",
       "    <tr>\n",
       "      <th>0</th>\n",
       "      <td>1</td>\n",
       "      <td>1</td>\n",
       "      <td>01/01/2004 00:00</td>\n",
       "      <td>Parking</td>\n",
       "      <td>Alquiler</td>\n",
       "      <td>Lleida</td>\n",
       "      <td>291.0</td>\n",
       "      <td>2133903.0</td>\n",
       "      <td>19/06/2004 00:00</td>\n",
       "      <td>Carmen</td>\n",
       "    </tr>\n",
       "    <tr>\n",
       "      <th>1</th>\n",
       "      <td>2</td>\n",
       "      <td>2</td>\n",
       "      <td>01/01/2004 00:00</td>\n",
       "      <td>Local</td>\n",
       "      <td>Venta</td>\n",
       "      <td>Girona</td>\n",
       "      <td>185.0</td>\n",
       "      <td>1945424.0</td>\n",
       "      <td>19/04/2004 00:00</td>\n",
       "      <td>Pedro</td>\n",
       "    </tr>\n",
       "  </tbody>\n",
       "</table>\n",
       "</div>"
      ],
      "text/plain": [
       "   0  Referencia        Fecha Alta     Tipo Operación Provincia  Superficie  \\\n",
       "0  1           1  01/01/2004 00:00  Parking  Alquiler    Lleida       291.0   \n",
       "1  2           2  01/01/2004 00:00    Local     Venta    Girona       185.0   \n",
       "\n",
       "   Precio Venta       Fecha Venta Vendedor  \n",
       "0     2133903.0  19/06/2004 00:00   Carmen  \n",
       "1     1945424.0  19/04/2004 00:00    Pedro  "
      ]
     },
     "execution_count": 3,
     "metadata": {},
     "output_type": "execute_result"
    }
   ],
   "source": [
    "data = pd.read_csv('inmuebles2.csv')\n",
    "data.head(2)"
   ]
  },
  {
   "cell_type": "code",
   "execution_count": 14,
   "metadata": {},
   "outputs": [
    {
     "data": {
      "text/plain": [
       "0                 0\n",
       "Referencia        0\n",
       "Fecha Alta        2\n",
       "Tipo              2\n",
       "Operación         1\n",
       "Provincia         4\n",
       "Superficie        4\n",
       "Precio Venta      6\n",
       "Fecha Venta     578\n",
       "Vendedor        578\n",
       "dtype: int64"
      ]
     },
     "execution_count": 14,
     "metadata": {},
     "output_type": "execute_result"
    }
   ],
   "source": [
    "#Identificar valores nulos por columna\n",
    "valores_nulos=data.isnull().sum()\n",
    "valores_nulos"
   ]
  },
  {
   "cell_type": "code",
   "execution_count": 6,
   "metadata": {},
   "outputs": [
    {
     "data": {
      "text/html": [
       "<div>\n",
       "<style scoped>\n",
       "    .dataframe tbody tr th:only-of-type {\n",
       "        vertical-align: middle;\n",
       "    }\n",
       "\n",
       "    .dataframe tbody tr th {\n",
       "        vertical-align: top;\n",
       "    }\n",
       "\n",
       "    .dataframe thead th {\n",
       "        text-align: right;\n",
       "    }\n",
       "</style>\n",
       "<table border=\"1\" class=\"dataframe\">\n",
       "  <thead>\n",
       "    <tr style=\"text-align: right;\">\n",
       "      <th></th>\n",
       "      <th>0</th>\n",
       "      <th>Referencia</th>\n",
       "      <th>Fecha Alta</th>\n",
       "      <th>Tipo</th>\n",
       "      <th>Operación</th>\n",
       "      <th>Provincia</th>\n",
       "      <th>Superficie</th>\n",
       "      <th>Precio Venta</th>\n",
       "      <th>Fecha Venta</th>\n",
       "      <th>Vendedor</th>\n",
       "    </tr>\n",
       "  </thead>\n",
       "  <tbody>\n",
       "    <tr>\n",
       "      <th>0</th>\n",
       "      <td>1</td>\n",
       "      <td>1</td>\n",
       "      <td>01/01/2004 00:00</td>\n",
       "      <td>Parking</td>\n",
       "      <td>Alquiler</td>\n",
       "      <td>Lleida</td>\n",
       "      <td>291.0</td>\n",
       "      <td>2133903.0</td>\n",
       "      <td>19/06/2004 00:00</td>\n",
       "      <td>Carmen</td>\n",
       "    </tr>\n",
       "    <tr>\n",
       "      <th>1</th>\n",
       "      <td>2</td>\n",
       "      <td>2</td>\n",
       "      <td>01/01/2004 00:00</td>\n",
       "      <td>Local</td>\n",
       "      <td>Venta</td>\n",
       "      <td>Girona</td>\n",
       "      <td>185.0</td>\n",
       "      <td>1945424.0</td>\n",
       "      <td>19/04/2004 00:00</td>\n",
       "      <td>Pedro</td>\n",
       "    </tr>\n",
       "  </tbody>\n",
       "</table>\n",
       "</div>"
      ],
      "text/plain": [
       "   0  Referencia        Fecha Alta     Tipo Operación Provincia  Superficie  \\\n",
       "0  1           1  01/01/2004 00:00  Parking  Alquiler    Lleida       291.0   \n",
       "1  2           2  01/01/2004 00:00    Local     Venta    Girona       185.0   \n",
       "\n",
       "   Precio Venta       Fecha Venta Vendedor  \n",
       "0     2133903.0  19/06/2004 00:00   Carmen  \n",
       "1     1945424.0  19/04/2004 00:00    Pedro  "
      ]
     },
     "execution_count": 6,
     "metadata": {},
     "output_type": "execute_result"
    }
   ],
   "source": [
    "data2=data.copy()\n",
    "data2.head(2)"
   ]
  },
  {
   "cell_type": "code",
   "execution_count": 16,
   "metadata": {},
   "outputs": [],
   "source": [
    "#Eliminamos valores nulos de Superficie\n",
    "#Sustituir valores nulos con promedio para Superficie\n",
    "data2[\"Superficie\"]=data2[\"Superficie\"].fillna(round(data[\"Superficie\"].mean(),2))\n",
    "data2.to_csv(\"Superficie.csv\")"
   ]
  },
  {
   "cell_type": "code",
   "execution_count": 17,
   "metadata": {},
   "outputs": [
    {
     "data": {
      "text/plain": [
       "0                 0\n",
       "Referencia        0\n",
       "Fecha Alta        2\n",
       "Tipo              2\n",
       "Operación         1\n",
       "Provincia         4\n",
       "Superficie        0\n",
       "Precio Venta      6\n",
       "Fecha Venta     578\n",
       "Vendedor        578\n",
       "dtype: int64"
      ]
     },
     "execution_count": 17,
     "metadata": {},
     "output_type": "execute_result"
    }
   ],
   "source": [
    "#Verificamos los valores nulos de las colunas\n",
    "valores_nulos=data2.isnull().sum()\n",
    "valores_nulos"
   ]
  },
  {
   "cell_type": "code",
   "execution_count": 16,
   "metadata": {},
   "outputs": [],
   "source": [
    "#Eliminamos valores nulos de Precio Venta\n",
    "#Sustituir valores nulos con media para Precio Venta\n",
    "data2[\"Precio Venta\"]=data2[\"Precio Venta\"].fillna(round(data[\"Precio Venta\"].median(),2))\n",
    "data2.to_csv(\"Precio Venta.csv\")"
   ]
  },
  {
   "cell_type": "code",
   "execution_count": 17,
   "metadata": {},
   "outputs": [
    {
     "data": {
      "text/plain": [
       "0                 0\n",
       "Referencia        0\n",
       "Fecha Alta        0\n",
       "Tipo              2\n",
       "Operación         1\n",
       "Provincia         4\n",
       "Superficie        4\n",
       "Precio Venta      0\n",
       "Fecha Venta       0\n",
       "Vendedor        578\n",
       "dtype: int64"
      ]
     },
     "execution_count": 17,
     "metadata": {},
     "output_type": "execute_result"
    }
   ],
   "source": [
    "#Verificamos los valores nulos de las colunas\n",
    "valores_nulos=data2.isnull().sum()\n",
    "valores_nulos"
   ]
  },
  {
   "cell_type": "code",
   "execution_count": 21,
   "metadata": {},
   "outputs": [],
   "source": [
    "#Eliminamos valores nulos de Referencia\n",
    "#Sustituir valores nulos con media para Referencia\n",
    "data2[\"Referencia\"]=data2[\"Referencia\"].fillna(round(data[\"Referencia\"].median(),2))\n",
    "data2.to_csv(\"Referencia.csv\")"
   ]
  },
  {
   "cell_type": "code",
   "execution_count": 22,
   "metadata": {},
   "outputs": [
    {
     "data": {
      "text/plain": [
       "0                 0\n",
       "Referencia        0\n",
       "Fecha Alta        2\n",
       "Tipo              2\n",
       "Operación         1\n",
       "Provincia         4\n",
       "Superficie        0\n",
       "Precio Venta      0\n",
       "Fecha Venta     578\n",
       "Vendedor        578\n",
       "dtype: int64"
      ]
     },
     "execution_count": 22,
     "metadata": {},
     "output_type": "execute_result"
    }
   ],
   "source": [
    "#Verificamos los valores nulos de las colunas\n",
    "valores_nulos=data2.isnull().sum()\n",
    "valores_nulos"
   ]
  },
  {
   "cell_type": "code",
   "execution_count": 9,
   "metadata": {},
   "outputs": [],
   "source": [
    "#Eliminamos valores nulos de Referencia\n",
    "#Sustituir valores nulos con media para Referencia\n",
    "data2[\"Fecha Venta\"]=data2[\"Fecha Venta\"].fillna(\"2030-05-19 00:00:00\")\n",
    "data2.to_csv(\"Fecha Alta.csv\")"
   ]
  },
  {
   "cell_type": "code",
   "execution_count": 10,
   "metadata": {},
   "outputs": [
    {
     "data": {
      "text/plain": [
       "0                 0\n",
       "Referencia        0\n",
       "Fecha Alta        2\n",
       "Tipo              2\n",
       "Operación         1\n",
       "Provincia         4\n",
       "Superficie        4\n",
       "Precio Venta      6\n",
       "Fecha Venta       0\n",
       "Vendedor        578\n",
       "dtype: int64"
      ]
     },
     "execution_count": 10,
     "metadata": {},
     "output_type": "execute_result"
    }
   ],
   "source": [
    "#Verificamos los valores nulos de las colunas\n",
    "valores_nulos=data2.isnull().sum()\n",
    "valores_nulos"
   ]
  },
  {
   "cell_type": "code",
   "execution_count": 11,
   "metadata": {},
   "outputs": [],
   "source": [
    "data3=data.copy()"
   ]
  },
  {
   "cell_type": "code",
   "execution_count": 12,
   "metadata": {},
   "outputs": [],
   "source": [
    "data2[\"Fecha Alta\"]=data2[\"Fecha Alta\"].fillna(\"2030-05-19 00:00:00\")\n",
    "data2.to_csv(\"Fecha_Alta.csv\")"
   ]
  },
  {
   "cell_type": "code",
   "execution_count": 13,
   "metadata": {},
   "outputs": [
    {
     "data": {
      "text/plain": [
       "0                 0\n",
       "Referencia        0\n",
       "Fecha Alta        0\n",
       "Tipo              2\n",
       "Operación         1\n",
       "Provincia         4\n",
       "Superficie        4\n",
       "Precio Venta      6\n",
       "Fecha Venta       0\n",
       "Vendedor        578\n",
       "dtype: int64"
      ]
     },
     "execution_count": 13,
     "metadata": {},
     "output_type": "execute_result"
    }
   ],
   "source": [
    "#Verificamos los valores nulos de las colunas\n",
    "valores_nulos=data2.isnull().sum()\n",
    "valores_nulos"
   ]
  },
  {
   "cell_type": "code",
   "execution_count": 18,
   "metadata": {},
   "outputs": [
    {
     "name": "stderr",
     "output_type": "stream",
     "text": [
      "C:\\Users\\julis\\AppData\\Local\\Temp\\ipykernel_19848\\3341616315.py:1: FutureWarning: Series.fillna with 'method' is deprecated and will raise in a future version. Use obj.ffill() or obj.bfill() instead.\n",
      "  data2[\"Tipo\"]=data2[\"Tipo\"].fillna(method=\"ffill\")\n"
     ]
    }
   ],
   "source": [
    "data2[\"Tipo\"]=data2[\"Tipo\"].fillna(method=\"ffill\")\n",
    "#data2.to_csv(\"Tipo.csv\")"
   ]
  },
  {
   "cell_type": "code",
   "execution_count": 19,
   "metadata": {},
   "outputs": [
    {
     "data": {
      "text/plain": [
       "0                 0\n",
       "Referencia        0\n",
       "Fecha Alta        0\n",
       "Tipo              0\n",
       "Operación         1\n",
       "Provincia         4\n",
       "Superficie        4\n",
       "Precio Venta      0\n",
       "Fecha Venta       0\n",
       "Vendedor        578\n",
       "dtype: int64"
      ]
     },
     "execution_count": 19,
     "metadata": {},
     "output_type": "execute_result"
    }
   ],
   "source": [
    "#Verificamos los valores nulos de las colunas\n",
    "valores_nulos=data2.isnull().sum()\n",
    "valores_nulos"
   ]
  },
  {
   "cell_type": "code",
   "execution_count": 20,
   "metadata": {},
   "outputs": [
    {
     "name": "stderr",
     "output_type": "stream",
     "text": [
      "C:\\Users\\julis\\AppData\\Local\\Temp\\ipykernel_19848\\3919354644.py:1: FutureWarning: Series.fillna with 'method' is deprecated and will raise in a future version. Use obj.ffill() or obj.bfill() instead.\n",
      "  data2[\"Operación\"]=data2[\"Operación\"].fillna(method=\"bfill\")\n"
     ]
    }
   ],
   "source": [
    "data2[\"Operación\"]=data2[\"Operación\"].fillna(method=\"bfill\")"
   ]
  },
  {
   "cell_type": "code",
   "execution_count": 21,
   "metadata": {},
   "outputs": [
    {
     "data": {
      "text/plain": [
       "0                 0\n",
       "Referencia        0\n",
       "Fecha Alta        0\n",
       "Tipo              0\n",
       "Operación         0\n",
       "Provincia         4\n",
       "Superficie        4\n",
       "Precio Venta      0\n",
       "Fecha Venta       0\n",
       "Vendedor        578\n",
       "dtype: int64"
      ]
     },
     "execution_count": 21,
     "metadata": {},
     "output_type": "execute_result"
    }
   ],
   "source": [
    "#Verificamos los valores nulos de las colunas\n",
    "valores_nulos=data2.isnull().sum()\n",
    "valores_nulos"
   ]
  },
  {
   "cell_type": "code",
   "execution_count": 23,
   "metadata": {},
   "outputs": [
    {
     "name": "stderr",
     "output_type": "stream",
     "text": [
      "C:\\Users\\julis\\AppData\\Local\\Temp\\ipykernel_19848\\3571578380.py:1: FutureWarning: Series.fillna with 'method' is deprecated and will raise in a future version. Use obj.ffill() or obj.bfill() instead.\n",
      "  data2[\"Provincia\"]=data2[\"Provincia\"].fillna(method=\"bfill\")\n"
     ]
    }
   ],
   "source": [
    "data2[\"Provincia\"]=data2[\"Provincia\"].fillna(method=\"bfill\")"
   ]
  },
  {
   "cell_type": "code",
   "execution_count": 24,
   "metadata": {},
   "outputs": [
    {
     "data": {
      "text/plain": [
       "0                 0\n",
       "Referencia        0\n",
       "Fecha Alta        0\n",
       "Tipo              0\n",
       "Operación         0\n",
       "Provincia         0\n",
       "Superficie        4\n",
       "Precio Venta      0\n",
       "Fecha Venta       0\n",
       "Vendedor        578\n",
       "dtype: int64"
      ]
     },
     "execution_count": 24,
     "metadata": {},
     "output_type": "execute_result"
    }
   ],
   "source": [
    "#Verificamos los valores nulos de las colunas\n",
    "valores_nulos=data2.isnull().sum()\n",
    "valores_nulos"
   ]
  },
  {
   "cell_type": "code",
   "execution_count": 25,
   "metadata": {},
   "outputs": [
    {
     "name": "stderr",
     "output_type": "stream",
     "text": [
      "C:\\Users\\julis\\AppData\\Local\\Temp\\ipykernel_19848\\3412621650.py:1: FutureWarning: Series.fillna with 'method' is deprecated and will raise in a future version. Use obj.ffill() or obj.bfill() instead.\n",
      "  data2[\"Superficie\"]=data2[\"Superficie\"].fillna(method=\"ffill\")\n"
     ]
    }
   ],
   "source": [
    "data2[\"Superficie\"]=data2[\"Superficie\"].fillna(method=\"ffill\")"
   ]
  },
  {
   "cell_type": "code",
   "execution_count": 26,
   "metadata": {},
   "outputs": [
    {
     "data": {
      "text/plain": [
       "0                 0\n",
       "Referencia        0\n",
       "Fecha Alta        0\n",
       "Tipo              0\n",
       "Operación         0\n",
       "Provincia         0\n",
       "Superficie        0\n",
       "Precio Venta      0\n",
       "Fecha Venta       0\n",
       "Vendedor        578\n",
       "dtype: int64"
      ]
     },
     "execution_count": 26,
     "metadata": {},
     "output_type": "execute_result"
    }
   ],
   "source": [
    "#Verificamos los valores nulos de las colunas\n",
    "valores_nulos=data2.isnull().sum()\n",
    "valores_nulos"
   ]
  },
  {
   "cell_type": "code",
   "execution_count": 27,
   "metadata": {},
   "outputs": [
    {
     "name": "stderr",
     "output_type": "stream",
     "text": [
      "C:\\Users\\julis\\AppData\\Local\\Temp\\ipykernel_19848\\2515032956.py:1: FutureWarning: Series.fillna with 'method' is deprecated and will raise in a future version. Use obj.ffill() or obj.bfill() instead.\n",
      "  data2[\"Vendedor\"]=data2[\"Vendedor\"].fillna(method=\"ffill\")\n"
     ]
    }
   ],
   "source": [
    "data2[\"Vendedor\"]=data2[\"Vendedor\"].fillna(method=\"ffill\")"
   ]
  },
  {
   "cell_type": "code",
   "execution_count": 28,
   "metadata": {},
   "outputs": [
    {
     "data": {
      "text/plain": [
       "0               0\n",
       "Referencia      0\n",
       "Fecha Alta      0\n",
       "Tipo            0\n",
       "Operación       0\n",
       "Provincia       0\n",
       "Superficie      0\n",
       "Precio Venta    0\n",
       "Fecha Venta     0\n",
       "Vendedor        0\n",
       "dtype: int64"
      ]
     },
     "execution_count": 28,
     "metadata": {},
     "output_type": "execute_result"
    }
   ],
   "source": [
    "#Verificamos los valores nulos de las colunas\n",
    "valores_nulos=data2.isnull().sum()\n",
    "valores_nulos"
   ]
  }
 ],
 "metadata": {
  "kernelspec": {
   "display_name": "Python 3",
   "language": "python",
   "name": "python3"
  },
  "language_info": {
   "codemirror_mode": {
    "name": "ipython",
    "version": 3
   },
   "file_extension": ".py",
   "mimetype": "text/x-python",
   "name": "python",
   "nbconvert_exporter": "python",
   "pygments_lexer": "ipython3",
   "version": "3.12.8"
  }
 },
 "nbformat": 4,
 "nbformat_minor": 2
}
